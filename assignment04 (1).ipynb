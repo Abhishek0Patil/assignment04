{
 "cells": [
  {
   "cell_type": "markdown",
   "id": "48a773dd-1897-4130-8353-f32df94fa919",
   "metadata": {},
   "source": [
    "A class is a blueprint or a template that defines the properties and behaviors of a certain type of object."
   ]
  },
  {
   "cell_type": "markdown",
   "id": "1788e365-1645-4713-9bc6-e286774ab5c1",
   "metadata": {},
   "source": [
    "An object is an instance of a class, created using the blueprint defined by the class"
   ]
  },
  {
   "cell_type": "code",
   "execution_count": 5,
   "id": "de686f38-a667-4398-8b63-09447275b128",
   "metadata": {},
   "outputs": [],
   "source": [
    "class pwskills:\n",
    "    def __init__(self,phone_no,email_id,student_id):\n",
    "        self.phone_no=phone_no\n",
    "        self.email_id=email_id\n",
    "        self.student_id=student_id\n",
    "    def return_student_details(self):\n",
    "        return self.student_id,self.phone_no,self.email_id"
   ]
  },
  {
   "cell_type": "code",
   "execution_count": 7,
   "id": "4b901e95-cf74-491c-9e06-24bfadc43dd1",
   "metadata": {},
   "outputs": [],
   "source": [
    "abhishek=pwskills(854378329,\"abhi@gmail\",102)"
   ]
  },
  {
   "cell_type": "code",
   "execution_count": 9,
   "id": "87fa7aad-828b-4ff2-8bbc-169172599fd4",
   "metadata": {},
   "outputs": [
    {
     "data": {
      "text/plain": [
       "(102, 854378329, 'abhi@gmail')"
      ]
     },
     "execution_count": 9,
     "metadata": {},
     "output_type": "execute_result"
    }
   ],
   "source": [
    "abhishek.return_student_details()"
   ]
  },
  {
   "cell_type": "markdown",
   "id": "38c048bf-5b40-47c6-9cf0-fe7c0bb1c54b",
   "metadata": {},
   "source": [
    "abstraction\n",
    "inheritance\n",
    "encapsulation\n",
    "polymorphism"
   ]
  },
  {
   "cell_type": "markdown",
   "id": "07f32167-0640-47c7-bc53-c23731642d83",
   "metadata": {},
   "source": [
    "The __init__() method is essential because it allows us to define and initialize the attributes of an object at the time of its creation, ensuring that the object is in a valid state from the start."
   ]
  },
  {
   "cell_type": "code",
   "execution_count": 13,
   "id": "f7141de8-9740-4eb4-a721-6b8a0403c049",
   "metadata": {},
   "outputs": [],
   "source": [
    "class Person:\n",
    "    def __init__(self, name, age):\n",
    "        self.name = name\n",
    "        self.age = age\n",
    "    def get_details(self):\n",
    "        return self.name,self.age"
   ]
  },
  {
   "cell_type": "code",
   "execution_count": 14,
   "id": "dc40855b-1885-400f-b9a4-e723e3cb555b",
   "metadata": {},
   "outputs": [],
   "source": [
    "rohan=Person(\"rohan\",24)"
   ]
  },
  {
   "cell_type": "code",
   "execution_count": 15,
   "id": "fb0d6c6d-ff9c-4a40-b477-3c6bc840f883",
   "metadata": {},
   "outputs": [
    {
     "data": {
      "text/plain": [
       "('rohan', 24)"
      ]
     },
     "execution_count": 15,
     "metadata": {},
     "output_type": "execute_result"
    }
   ],
   "source": [
    "rohan.get_details()"
   ]
  },
  {
   "cell_type": "markdown",
   "id": "3a542ac4-05ab-43c6-a325-434908d5f5f2",
   "metadata": {},
   "source": [
    "self is a reference to the current instance of the class. It is used to access the attributes and methods of the object from within the class."
   ]
  },
  {
   "cell_type": "markdown",
   "id": "a66c6e46-0ff8-4fd3-997e-22c7c9bb8476",
   "metadata": {},
   "source": [
    "inheritance allows us to create new classes by inheriting properties and behaviors from existing classes."
   ]
  },
  {
   "cell_type": "code",
   "execution_count": 16,
   "id": "e531da85-3d40-4dac-bb9a-c0221daa346a",
   "metadata": {},
   "outputs": [],
   "source": [
    "#example for single inheritance\n",
    "class Vehicle:\n",
    "    def __init__(self, make, model, year):\n",
    "        self.make = make\n",
    "        self.model = model\n",
    "        self.year = year\n",
    "        \n",
    "    def get_details(self):\n",
    "        return f\"This is a {self.make} {self.model} from {self.year}.\"\n",
    "    \n",
    "class Car(Vehicle):\n",
    "    def __init__(self, make, model, year, doors):\n",
    "        super().__init__(make, model, year)\n",
    "        self.doors = doors\n",
    "        \n",
    "    def get_details(self):\n",
    "        return f\"{super().get_details()} It has {self.doors} doors.\""
   ]
  },
  {
   "cell_type": "code",
   "execution_count": 17,
   "id": "c3ce13f0-5c51-4fc0-860b-7c9c5e22b650",
   "metadata": {},
   "outputs": [],
   "source": [
    "a=Vehicle(\"ford\",\"mustang gt\",2018)"
   ]
  },
  {
   "cell_type": "code",
   "execution_count": 18,
   "id": "9823e4c8-4290-4a63-84e7-50fd4ba23166",
   "metadata": {},
   "outputs": [
    {
     "data": {
      "text/plain": [
       "'This is a ford mustang gt from 2018.'"
      ]
     },
     "execution_count": 18,
     "metadata": {},
     "output_type": "execute_result"
    }
   ],
   "source": [
    "a.get_details()"
   ]
  },
  {
   "cell_type": "code",
   "execution_count": 21,
   "id": "3227547d-2a99-4b33-87fe-0bed06e282af",
   "metadata": {},
   "outputs": [],
   "source": [
    "b=Car(\"ford\",\"mustang gt\",2018,3)"
   ]
  },
  {
   "cell_type": "code",
   "execution_count": 22,
   "id": "5a53ef13-8539-45a5-bf20-d1886d2d1702",
   "metadata": {},
   "outputs": [
    {
     "data": {
      "text/plain": [
       "'This is a ford mustang gt from 2018. It has 3 doors.'"
      ]
     },
     "execution_count": 22,
     "metadata": {},
     "output_type": "execute_result"
    }
   ],
   "source": [
    "b.get_details()"
   ]
  },
  {
   "cell_type": "code",
   "execution_count": 23,
   "id": "871b6bfa-45dd-42eb-92cc-20c3d529973b",
   "metadata": {},
   "outputs": [],
   "source": [
    "#example for multiple inheritance\n",
    "class A:\n",
    "    def method_a(self):\n",
    "        print(\"Method A\")\n",
    "        \n",
    "class B:\n",
    "    def method_b(self):\n",
    "        print(\"Method B\")\n",
    "        \n",
    "class C(A, B):\n",
    "    def method_c(self):\n",
    "        print(\"Method C\")"
   ]
  },
  {
   "cell_type": "code",
   "execution_count": 24,
   "id": "225dd71a-ea26-4898-b700-3332bc671a62",
   "metadata": {},
   "outputs": [],
   "source": [
    "p=A()"
   ]
  },
  {
   "cell_type": "code",
   "execution_count": 25,
   "id": "4f40f122-df9c-4280-a3cd-fccf247af6e9",
   "metadata": {},
   "outputs": [
    {
     "name": "stdout",
     "output_type": "stream",
     "text": [
      "Method A\n"
     ]
    }
   ],
   "source": [
    "p.method_a()"
   ]
  },
  {
   "cell_type": "code",
   "execution_count": 26,
   "id": "941ba2d5-0e77-4f0c-bdce-d9b6fd984ca9",
   "metadata": {},
   "outputs": [],
   "source": [
    "#example of multilevel inheritance\n",
    "class Animal:\n",
    "    def eat(self):\n",
    "        print(\"Eating...\")\n",
    "        \n",
    "class Dog(Animal):\n",
    "    def bark(self):\n",
    "        print(\"Barking...\")\n",
    "        \n",
    "class Labrador(Dog):\n",
    "    def fetch(self):\n",
    "        print(\"Fetching...\")"
   ]
  },
  {
   "cell_type": "code",
   "execution_count": 28,
   "id": "46b504f6-2c81-4c1f-ae5e-b19d12e6edf7",
   "metadata": {},
   "outputs": [],
   "source": [
    "a=Animal()"
   ]
  },
  {
   "cell_type": "code",
   "execution_count": 29,
   "id": "06b4f432-40b7-4b85-b269-398e4264ed86",
   "metadata": {},
   "outputs": [
    {
     "name": "stdout",
     "output_type": "stream",
     "text": [
      "Eating...\n"
     ]
    }
   ],
   "source": [
    "a.eat()"
   ]
  },
  {
   "cell_type": "code",
   "execution_count": 33,
   "id": "81846a26-11b4-4fd6-9be5-9e0238417f82",
   "metadata": {},
   "outputs": [],
   "source": [
    "b=Labrador()"
   ]
  },
  {
   "cell_type": "code",
   "execution_count": 34,
   "id": "07b50830-3fba-4e5e-bc94-2ab45985aab8",
   "metadata": {},
   "outputs": [
    {
     "name": "stdout",
     "output_type": "stream",
     "text": [
      "Fetching...\n"
     ]
    }
   ],
   "source": [
    "b.fetch()"
   ]
  },
  {
   "cell_type": "code",
   "execution_count": null,
   "id": "0d568b3e-d078-4915-84db-d48ec2dd8115",
   "metadata": {},
   "outputs": [],
   "source": []
  }
 ],
 "metadata": {
  "kernelspec": {
   "display_name": "Python 3 (ipykernel)",
   "language": "python",
   "name": "python3"
  },
  "language_info": {
   "codemirror_mode": {
    "name": "ipython",
    "version": 3
   },
   "file_extension": ".py",
   "mimetype": "text/x-python",
   "name": "python",
   "nbconvert_exporter": "python",
   "pygments_lexer": "ipython3",
   "version": "3.10.8"
  }
 },
 "nbformat": 4,
 "nbformat_minor": 5
}
